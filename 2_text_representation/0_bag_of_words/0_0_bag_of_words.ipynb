{
 "cells": [
  {
   "cell_type": "code",
   "execution_count": 1,
   "id": "87405ac1",
   "metadata": {},
   "outputs": [],
   "source": [
    "from sklearn.feature_extraction.text import CountVectorizer"
   ]
  },
  {
   "cell_type": "code",
   "execution_count": 7,
   "id": "151658ae",
   "metadata": {},
   "outputs": [],
   "source": [
    "# veri seti oluştur\n",
    "document = [\"kedi evde\", \"kedi bahçede\"]"
   ]
  },
  {
   "cell_type": "code",
   "execution_count": 8,
   "id": "6d48eea6",
   "metadata": {},
   "outputs": [],
   "source": [
    "# vectorizer tanımla\n",
    "vectorizer = CountVectorizer()"
   ]
  },
  {
   "cell_type": "code",
   "execution_count": 14,
   "id": "afaca219",
   "metadata": {},
   "outputs": [],
   "source": [
    "# metni sayısal vektörlere çevir\n",
    "X = vectorizer.fit_transform(document)"
   ]
  },
  {
   "cell_type": "code",
   "execution_count": 15,
   "id": "e1b05be2",
   "metadata": {},
   "outputs": [
    {
     "data": {
      "text/plain": [
       "array(['bahçede', 'evde', 'kedi'], dtype=object)"
      ]
     },
     "execution_count": 15,
     "metadata": {},
     "output_type": "execute_result"
    }
   ],
   "source": [
    "# kelime kümesi oluşturma\n",
    "feature_names = vectorizer.get_feature_names_out()\n",
    "feature_names"
   ]
  },
  {
   "cell_type": "code",
   "execution_count": 18,
   "id": "aab25145",
   "metadata": {},
   "outputs": [
    {
     "data": {
      "text/plain": [
       "array([[0, 1, 1],\n",
       "       [1, 0, 1]])"
      ]
     },
     "execution_count": 18,
     "metadata": {},
     "output_type": "execute_result"
    }
   ],
   "source": [
    "# vektör temsili\n",
    "vector_temsili = X.toarray()\n",
    "''' \n",
    "    [\"bahçede\", \"evde\", \"kedi\"]\n",
    "'''\n",
    "vector_temsili"
   ]
  }
 ],
 "metadata": {
  "kernelspec": {
   "display_name": "Python 3",
   "language": "python",
   "name": "python3"
  },
  "language_info": {
   "codemirror_mode": {
    "name": "ipython",
    "version": 3
   },
   "file_extension": ".py",
   "mimetype": "text/x-python",
   "name": "python",
   "nbconvert_exporter": "python",
   "pygments_lexer": "ipython3",
   "version": "3.12.2"
  }
 },
 "nbformat": 4,
 "nbformat_minor": 5
}
