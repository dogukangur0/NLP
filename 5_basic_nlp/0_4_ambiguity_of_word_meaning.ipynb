{
 "cells": [
  {
   "cell_type": "code",
   "execution_count": 1,
   "id": "40f16931",
   "metadata": {},
   "outputs": [],
   "source": [
    "import nltk\n",
    "from nltk.wsd import lesk"
   ]
  },
  {
   "cell_type": "code",
   "execution_count": null,
   "id": "512b99bf",
   "metadata": {},
   "outputs": [],
   "source": [
    "nltk.download('wordnet')\n",
    "nltk.download('own-1.4')\n",
    "nltk.download('punkt')"
   ]
  },
  {
   "cell_type": "code",
   "execution_count": 6,
   "id": "0d20b44b",
   "metadata": {},
   "outputs": [
    {
     "name": "stdout",
     "output_type": "stream",
     "text": [
      "Sentence: I go to the bank to deposit money\n",
      "Word: bank\n",
      "Sense: a container (usually with a slot in the top) for keeping money at home\n"
     ]
    }
   ],
   "source": [
    "s1 = \"I go to the bank to deposit money\"\n",
    "w1 = \"bank\"\n",
    "sense1 = lesk(nltk.word_tokenize(s1), w1)\n",
    "\n",
    "print(f\"Sentence: {s1}\")\n",
    "print(f\"Word: {w1}\")\n",
    "print(f\"Sense: {sense1.definition()}\")"
   ]
  },
  {
   "cell_type": "code",
   "execution_count": 7,
   "id": "8766f348",
   "metadata": {},
   "outputs": [
    {
     "name": "stdout",
     "output_type": "stream",
     "text": [
      "Sentence: The river bank is flooded after the heavy rain.\n",
      "Word: bank\n",
      "Sense: a slope in the turn of a road or track; the outside is higher than the inside in order to reduce the effects of centrifugal force\n"
     ]
    }
   ],
   "source": [
    "s2 = \"The river bank is flooded after the heavy rain.\"\n",
    "w2 = \"bank\"\n",
    "sense2 = lesk(nltk.word_tokenize(s2), w2)\n",
    "\n",
    "print(f\"Sentence: {s2}\")\n",
    "print(f\"Word: {w2}\")\n",
    "print(f\"Sense: {sense2.definition()}\")"
   ]
  },
  {
   "cell_type": "code",
   "execution_count": 15,
   "id": "40293a52",
   "metadata": {},
   "outputs": [],
   "source": [
    "from pywsd.lesk import simple_lesk, adapted_lesk, cosine_lesk"
   ]
  },
  {
   "cell_type": "code",
   "execution_count": 20,
   "id": "4d051934",
   "metadata": {},
   "outputs": [
    {
     "name": "stdout",
     "output_type": "stream",
     "text": [
      "Sentence: I go to the bank to deposit money\n",
      "\n",
      "Sense Simple: a financial institution that accepts deposits and channels the money into lending activities\n",
      "Sense Adapted: a financial institution that accepts deposits and channels the money into lending activities\n",
      "Sense Cosine: a container (usually with a slot in the top) for keeping money at home\n",
      "\n",
      "Sentence: The river bank is flooded after the heavy rain.\n",
      "\n",
      "Sense Simple: sloping land (especially the slope beside a body of water)\n",
      "Sense Adapted: sloping land (especially the slope beside a body of water)\n",
      "Sense Cosine: a supply or stock held in reserve for future use (especially in emergencies)\n",
      "\n"
     ]
    }
   ],
   "source": [
    "sentences = [\"I go to the bank to deposit money\", \"The river bank is flooded after the heavy rain.\"]\n",
    "word = \"bank\"\n",
    "for sentence in sentences:\n",
    "    print(f\"Sentence: {sentence}\")\n",
    "\n",
    "    print()\n",
    "    sense_simple_lesk = simple_lesk(sentence, word)\n",
    "    print(f\"Sense Simple: {sense_simple_lesk.definition()}\")\n",
    "\n",
    "    sense_adapted_lesk = adapted_lesk(sentence, word)\n",
    "    print(f\"Sense Adapted: {sense_adapted_lesk.definition()}\")\n",
    "\n",
    "    sense_cosine_lesk = cosine_lesk(sentence, word)\n",
    "    print(f\"Sense Cosine: {sense_cosine_lesk.definition()}\")\n",
    "    print()"
   ]
  }
 ],
 "metadata": {
  "kernelspec": {
   "display_name": "Python 3",
   "language": "python",
   "name": "python3"
  },
  "language_info": {
   "codemirror_mode": {
    "name": "ipython",
    "version": 3
   },
   "file_extension": ".py",
   "mimetype": "text/x-python",
   "name": "python",
   "nbconvert_exporter": "python",
   "pygments_lexer": "ipython3",
   "version": "3.10.11"
  }
 },
 "nbformat": 4,
 "nbformat_minor": 5
}
