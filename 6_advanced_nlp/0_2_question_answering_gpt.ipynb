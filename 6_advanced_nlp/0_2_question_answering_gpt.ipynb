{
 "cells": [
  {
   "cell_type": "code",
   "execution_count": null,
   "id": "12d15044",
   "metadata": {},
   "outputs": [],
   "source": [
    "from transformers import GPT2Tokenizer, GPT2LMHeadModel\n",
    "import torch\n",
    "import warnings\n",
    "warnings.filterwarnings(\"ignore\")"
   ]
  },
  {
   "cell_type": "code",
   "execution_count": 2,
   "id": "952ae247",
   "metadata": {},
   "outputs": [],
   "source": [
    "model_name = \"gpt2\""
   ]
  },
  {
   "cell_type": "code",
   "execution_count": 3,
   "id": "188bbba9",
   "metadata": {},
   "outputs": [],
   "source": [
    "tokenizer = GPT2Tokenizer.from_pretrained(model_name)\n",
    "model = GPT2LMHeadModel.from_pretrained(model_name)"
   ]
  },
  {
   "cell_type": "code",
   "execution_count": 4,
   "id": "e1c46ff6",
   "metadata": {},
   "outputs": [],
   "source": [
    "def predict_answer(question, context):\n",
    "    input_text = f\"Context: {context}\\nQuestion: {question}\\nAnswer:\"\n",
    "    inputs = tokenizer.encode(input_text, return_tensors = \"pt\")\n",
    "\n",
    "    with torch.no_grad():\n",
    "        outputs = model.generate(inputs, max_length = 500)\n",
    "\n",
    "    answer = tokenizer.decode(outputs[0], skip_special_tokens = True)\n",
    "    answer = answer.split(\"Answer:\")[-1].strip() \n",
    "    ''' \n",
    "        answer içeriğini 'Answer:' kelimesinin bulunduğu yerden böl. \n",
    "        Bölme sonucu listede 2 tane text var. \n",
    "        Answer:'dan sonrakini almak için -1. index strip ile de sağında solunca bulunan boşlukları sil.\n",
    "    '''\n",
    "    return answer    "
   ]
  },
  {
   "cell_type": "code",
   "execution_count": 5,
   "id": "0737cda3",
   "metadata": {},
   "outputs": [
    {
     "name": "stderr",
     "output_type": "stream",
     "text": [
      "The attention mask and the pad token id were not set. As a consequence, you may observe unexpected behavior. Please pass your input's `attention_mask` to obtain reliable results.\n",
      "Setting `pad_token_id` to `eos_token_id`:50256 for open-end generation.\n",
      "The attention mask is not set and cannot be inferred from input because pad token is same as eos token. As a consequence, you may observe unexpected behavior. Please pass your input's `attention_mask` to obtain reliable results.\n"
     ]
    },
    {
     "name": "stdout",
     "output_type": "stream",
     "text": [
      "The Result: \n"
     ]
    }
   ],
   "source": [
    "question = \"What is the capital of Turkiye\"\n",
    "context = \"Turkiye, officially Turkish Republic, is a country whose capital is Ankara.\"\n",
    "\n",
    "result = predict_answer(question, context)\n",
    "print(f\"The Result: {result}\")"
   ]
  }
 ],
 "metadata": {
  "kernelspec": {
   "display_name": "Python 3",
   "language": "python",
   "name": "python3"
  },
  "language_info": {
   "codemirror_mode": {
    "name": "ipython",
    "version": 3
   },
   "file_extension": ".py",
   "mimetype": "text/x-python",
   "name": "python",
   "nbconvert_exporter": "python",
   "pygments_lexer": "ipython3",
   "version": "3.10.11"
  }
 },
 "nbformat": 4,
 "nbformat_minor": 5
}
