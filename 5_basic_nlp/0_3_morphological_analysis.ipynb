{
 "cells": [
  {
   "cell_type": "code",
   "execution_count": 1,
   "id": "9a29a7d5",
   "metadata": {},
   "outputs": [],
   "source": [
    "import spacy"
   ]
  },
  {
   "cell_type": "code",
   "execution_count": 2,
   "id": "ef967052",
   "metadata": {},
   "outputs": [],
   "source": [
    "nlp = spacy.load('en_core_web_sm')"
   ]
  },
  {
   "cell_type": "code",
   "execution_count": 11,
   "id": "e98aa7b8",
   "metadata": {},
   "outputs": [],
   "source": [
    "word = \"I go to schools\""
   ]
  },
  {
   "cell_type": "code",
   "execution_count": 12,
   "id": "61629df7",
   "metadata": {},
   "outputs": [],
   "source": [
    "doc = nlp(word)"
   ]
  },
  {
   "cell_type": "code",
   "execution_count": 14,
   "id": "62fb378c",
   "metadata": {},
   "outputs": [
    {
     "name": "stdout",
     "output_type": "stream",
     "text": [
      "Text: I\n",
      "Lemma: I\n",
      "POS: PRON\n",
      "Tag: PRP\n",
      "Dependency: nsubj\n",
      "Shape: X\n",
      "Is alpha: True\n",
      "Is stop: True\n",
      "Morphology: Case=Nom|Number=Sing|Person=1|PronType=Prs\n",
      "Is plural: False\n",
      "\n",
      "Text: go\n",
      "Lemma: go\n",
      "POS: VERB\n",
      "Tag: VBP\n",
      "Dependency: ROOT\n",
      "Shape: xx\n",
      "Is alpha: True\n",
      "Is stop: True\n",
      "Morphology: Tense=Pres|VerbForm=Fin\n",
      "Is plural: False\n",
      "\n",
      "Text: to\n",
      "Lemma: to\n",
      "POS: ADP\n",
      "Tag: IN\n",
      "Dependency: prep\n",
      "Shape: xx\n",
      "Is alpha: True\n",
      "Is stop: True\n",
      "Morphology: \n",
      "Is plural: False\n",
      "\n",
      "Text: schools\n",
      "Lemma: school\n",
      "POS: NOUN\n",
      "Tag: NNS\n",
      "Dependency: pobj\n",
      "Shape: xxxx\n",
      "Is alpha: True\n",
      "Is stop: False\n",
      "Morphology: Number=Plur\n",
      "Is plural: True\n",
      "\n"
     ]
    }
   ],
   "source": [
    "for token in doc:\n",
    "    print(f\"Text: {token.text}\")                                # kelimenin kendisi\n",
    "    print(f\"Lemma: {token.lemma_}\")                             # kelimenin kök hali\n",
    "    print(f\"POS: {token.pos_}\")                                 # kelimenin dil bilgisel özelliği\n",
    "    print(f\"Tag: {token.tag_}\")                                 # kelimenin detaylı dil bilgisel özelliği\n",
    "    print(f\"Dependency: {token.dep_}\")                          # kelimenin rolü \n",
    "    print(f\"Shape: {token.shape_}\")                             # karakter yapısı\n",
    "    print(f\"Is alpha: {token.is_alpha}\")                        # kelimenin yalnızca alfabetik karakterlerden oluşup oluşmadığını kontrol eder\n",
    "    print(f\"Is stop: {token.is_stop}\")                          # kelimenin stop words olup olmadığını kontrol eder\n",
    "    print(f\"Morphology: {token.morph}\")                         # kelimenin morfolojik özelliğini verir\n",
    "    print(f\"Is plural: {'Number=Plur' in token.morph}\")         # kelimenin çoğul olup olmadığını belirler\n",
    "    print()"
   ]
  }
 ],
 "metadata": {
  "kernelspec": {
   "display_name": "Python 3",
   "language": "python",
   "name": "python3"
  },
  "language_info": {
   "codemirror_mode": {
    "name": "ipython",
    "version": 3
   },
   "file_extension": ".py",
   "mimetype": "text/x-python",
   "name": "python",
   "nbconvert_exporter": "python",
   "pygments_lexer": "ipython3",
   "version": "3.10.11"
  }
 },
 "nbformat": 4,
 "nbformat_minor": 5
}
