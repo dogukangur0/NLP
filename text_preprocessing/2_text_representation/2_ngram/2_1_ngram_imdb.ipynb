{
 "cells": [
  {
   "cell_type": "code",
   "execution_count": null,
   "id": "4e1063ff",
   "metadata": {},
   "outputs": [],
   "source": [
    "import pandas as pd\n",
    "from sklearn.feature_extraction.text import CountVectorizer\n",
    "import re\n",
    "import nltk\n",
    "from nltk.corpus import stopwords\n",
    "nltk.download(\"stopwords\")"
   ]
  },
  {
   "cell_type": "code",
   "execution_count": 37,
   "id": "fbeb0c88",
   "metadata": {},
   "outputs": [],
   "source": [
    "dataset = pd.read_csv('../IMDB Dataset.csv')"
   ]
  },
  {
   "cell_type": "code",
   "execution_count": 38,
   "id": "03ccae1b",
   "metadata": {},
   "outputs": [
    {
     "data": {
      "text/plain": [
       "Index(['review', 'sentiment'], dtype='object')"
      ]
     },
     "execution_count": 38,
     "metadata": {},
     "output_type": "execute_result"
    }
   ],
   "source": [
    "dataset.columns"
   ]
  },
  {
   "cell_type": "code",
   "execution_count": 39,
   "id": "5919380a",
   "metadata": {},
   "outputs": [],
   "source": [
    "documents = dataset[\"review\"]"
   ]
  },
  {
   "cell_type": "code",
   "execution_count": 40,
   "id": "50abaaee",
   "metadata": {},
   "outputs": [],
   "source": [
    "def clean_text(text):\n",
    "    text = text.lower()\n",
    "    text = re.sub(r\"[^A-Za-z0-9]\", \" \", text)\n",
    "    text = re.sub(r\"\\d+\", \"\", text)\n",
    "    text = re.sub(r\"[^\\w\\s]\", \"\", text)\n",
    "    text = re.sub(r'(.)\\1{2,}', r'\\1', text)\n",
    "    stop_words_eng = stopwords.words(\"english\")\n",
    "    text = \" \".join([word for word in text.split() if word not in stop_words_eng])\n",
    "    text = \" \".join([word for word in text.split() if len(word) > 2])   \n",
    "    return text\n",
    "\n",
    "cleaned_documents = [clean_text(document) for document in documents]"
   ]
  },
  {
   "cell_type": "code",
   "execution_count": 41,
   "id": "293ad78b",
   "metadata": {},
   "outputs": [],
   "source": [
    "unigram_vectorizer = CountVectorizer(ngram_range=(1,1))\n",
    "bigram_vectorizer = CountVectorizer(ngram_range=(2,2))\n",
    "trigram_vectorizer = CountVectorizer(ngram_range=(3,3))"
   ]
  },
  {
   "cell_type": "code",
   "execution_count": 45,
   "id": "28129303",
   "metadata": {},
   "outputs": [],
   "source": [
    "X_unigram = unigram_vectorizer.fit_transform(cleaned_documents)\n",
    "unigram_feature_names = unigram_vectorizer.get_feature_names_out()\n",
    "\n",
    "X_bigram = bigram_vectorizer.fit_transform(cleaned_documents)\n",
    "bigram_feature_names = bigram_vectorizer.get_feature_names_out()\n",
    "\n",
    "X_trigram = trigram_vectorizer.fit_transform(cleaned_documents)\n",
    "trigram_feature_names = trigram_vectorizer.get_feature_names_out()"
   ]
  },
  {
   "cell_type": "code",
   "execution_count": 49,
   "id": "bffc9619",
   "metadata": {},
   "outputs": [
    {
     "data": {
      "text/plain": [
       "('accent', 'abandoned civilized', 'abanazer lovely assistant')"
      ]
     },
     "execution_count": 49,
     "metadata": {},
     "output_type": "execute_result"
    }
   ],
   "source": [
    "unigram_feature_names[400], bigram_feature_names[400], trigram_feature_names[400]"
   ]
  }
 ],
 "metadata": {
  "kernelspec": {
   "display_name": "Python 3",
   "language": "python",
   "name": "python3"
  },
  "language_info": {
   "codemirror_mode": {
    "name": "ipython",
    "version": 3
   },
   "file_extension": ".py",
   "mimetype": "text/x-python",
   "name": "python",
   "nbconvert_exporter": "python",
   "pygments_lexer": "ipython3",
   "version": "3.12.9"
  }
 },
 "nbformat": 4,
 "nbformat_minor": 5
}
