{
 "cells": [
  {
   "cell_type": "code",
   "execution_count": 1,
   "id": "024c1bae",
   "metadata": {},
   "outputs": [],
   "source": [
    "from transformers import BertTokenizer, BertModel"
   ]
  },
  {
   "cell_type": "code",
   "execution_count": 2,
   "id": "c06b12b6",
   "metadata": {},
   "outputs": [],
   "source": [
    "import numpy as np\n",
    "from sklearn.metrics.pairwise import cosine_similarity"
   ]
  },
  {
   "cell_type": "code",
   "execution_count": 3,
   "id": "07e74ffd",
   "metadata": {},
   "outputs": [],
   "source": [
    "model_name = \"bert-base-uncased\""
   ]
  },
  {
   "cell_type": "code",
   "execution_count": 4,
   "id": "50000bdf",
   "metadata": {},
   "outputs": [],
   "source": [
    "tokenizer = BertTokenizer.from_pretrained(model_name)\n",
    "model = BertModel.from_pretrained(model_name)"
   ]
  },
  {
   "cell_type": "code",
   "execution_count": 6,
   "id": "7f4f8dc4",
   "metadata": {},
   "outputs": [],
   "source": [
    "documents = [\n",
    "    \"Machine Learning is a field of artificial intelligence\",\n",
    "    \"Natural Language Processing involves understanding human language\",\n",
    "    \"Artificial Intelligence encompasses machine learning and natural language processing\",\n",
    "    \"Deep Learning is a subset of machine learning\",\n",
    "    \"Data science combines statistics, data analysis and machine learning\",\n",
    "    \"I go to shop\"\n",
    "]"
   ]
  },
  {
   "cell_type": "code",
   "execution_count": 7,
   "id": "ee331787",
   "metadata": {},
   "outputs": [],
   "source": [
    "query = \"What is the machine learning ? \""
   ]
  },
  {
   "cell_type": "code",
   "execution_count": 8,
   "id": "d364f4af",
   "metadata": {},
   "outputs": [],
   "source": [
    "def get_embedding(text):\n",
    "    inputs = tokenizer(text, return_tensors = \"pt\", truncation = True, padding = True)\n",
    "\n",
    "    outputs = model(**inputs)\n",
    "\n",
    "    last_hidden_state = outputs.last_hidden_state\n",
    "\n",
    "    embeddding = last_hidden_state.mean(dim = 1) \n",
    "\n",
    "    return embeddding.detach().numpy()"
   ]
  },
  {
   "cell_type": "code",
   "execution_count": 9,
   "id": "731534eb",
   "metadata": {},
   "outputs": [],
   "source": [
    "doc_embedding = np.vstack([get_embedding(doc) for doc in documents])\n",
    "query_embedding = get_embedding(query)"
   ]
  },
  {
   "cell_type": "code",
   "execution_count": 10,
   "id": "2b4fdc70",
   "metadata": {},
   "outputs": [],
   "source": [
    "similarities = cosine_similarity(query_embedding, doc_embedding)"
   ]
  },
  {
   "cell_type": "code",
   "execution_count": 12,
   "id": "4902111d",
   "metadata": {},
   "outputs": [
    {
     "data": {
      "text/plain": [
       "array([[0.74845916, 0.6767968 , 0.7113043 , 0.72433925, 0.70604473,\n",
       "        0.5185727 ]], dtype=float32)"
      ]
     },
     "execution_count": 12,
     "metadata": {},
     "output_type": "execute_result"
    }
   ],
   "source": [
    "similarities"
   ]
  },
  {
   "cell_type": "code",
   "execution_count": 27,
   "id": "509df215",
   "metadata": {},
   "outputs": [
    {
     "name": "stdout",
     "output_type": "stream",
     "text": [
      "Documents: Machine Learning is a field of artificial intelligence, Score: 0.75\n",
      "Documents: Natural Language Processing involves understanding human language, Score: 0.68\n",
      "Documents: Artificial Intelligence encompasses machine learning and natural language processing, Score: 0.71\n",
      "Documents: Deep Learning is a subset of machine learning, Score: 0.72\n",
      "Documents: Data science combines statistics, data analysis and machine learning, Score: 0.71\n",
      "Documents: I go to shop, Score: 0.52\n",
      "\n",
      " Most Similar Document: Machine Learning is a field of artificial intelligence, Score: 0.75\n"
     ]
    }
   ],
   "source": [
    "for i, score in enumerate(similarities[0]):\n",
    "    print(f\"Documents: {documents[i]}, Score: {score:.2f}\")\n",
    "\n",
    "\n",
    "max_similarity = similarities.argmax()\n",
    "print(f\"\\n Most Similar Document: {documents[max_similarity]}, Score: {similarities[0][max_similarity]:.2f}\")"
   ]
  }
 ],
 "metadata": {
  "kernelspec": {
   "display_name": "Python 3",
   "language": "python",
   "name": "python3"
  },
  "language_info": {
   "codemirror_mode": {
    "name": "ipython",
    "version": 3
   },
   "file_extension": ".py",
   "mimetype": "text/x-python",
   "name": "python",
   "nbconvert_exporter": "python",
   "pygments_lexer": "ipython3",
   "version": "3.10.11"
  }
 },
 "nbformat": 4,
 "nbformat_minor": 5
}
