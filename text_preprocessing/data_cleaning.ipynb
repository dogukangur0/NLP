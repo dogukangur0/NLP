{
 "cells": [
  {
   "cell_type": "code",
   "execution_count": 13,
   "id": "1d6646cd",
   "metadata": {},
   "outputs": [],
   "source": [
    "text = \"Hello,     World!   2025\""
   ]
  },
  {
   "cell_type": "code",
   "execution_count": null,
   "id": "d527d9d7",
   "metadata": {},
   "outputs": [
    {
     "name": "stdout",
     "output_type": "stream",
     "text": [
      "['Hello,', 'World!', '2025']\n",
      "Hello, World! 2025\n"
     ]
    }
   ],
   "source": [
    "# metinlerde bulunan fazla boşlukları ortadan kaldırmak\n",
    "text =  text.split()\n",
    "print(text)\n",
    "''' \n",
    "join metodu -> bir liste veya başka bir iterable içerisindeki \"string\" öğeleri birleştirip tek bir \"STRING\" haline getirmek için kullanilir.\n",
    "\n",
    "\"ayraç\".join(iterable)\n",
    "\n",
    "ayraç     -> elemanlar arasina konacak karakter.\n",
    "iterable  -> liste, tuple ya da string gibi üzerinde gezilebilen ve sadece \"STRING\" elemanlar içeren bir yapi.\n",
    "\n",
    "'''\n",
    "text = \" \".join(text)\n",
    "print(text)"
   ]
  },
  {
   "cell_type": "code",
   "execution_count": 15,
   "id": "dfc97ae7",
   "metadata": {},
   "outputs": [
    {
     "name": "stdout",
     "output_type": "stream",
     "text": [
      "hello, world! 2025\n"
     ]
    }
   ],
   "source": [
    "# büyük küçk harfe döndürme\n",
    "text = text.lower()\n",
    "print(text)"
   ]
  },
  {
   "cell_type": "code",
   "execution_count": null,
   "id": "1f3e79a4",
   "metadata": {},
   "outputs": [
    {
     "name": "stdout",
     "output_type": "stream",
     "text": [
      "hello world 2025\n"
     ]
    }
   ],
   "source": [
    "# noktralama işaretlerini kaldır\n",
    "''' \n",
    "metin.translate(str.maketrans())\n",
    "maketrans normalde 3 parametre alabilir.\n",
    "maketrans(\"\", \"\") ilk parametre string içerisinde değiştirilecek karakterler, ikinci parametre değiştirilecek olan karakterlerin yerine gelecek değerler.\n",
    "maketrans(\"\", \"\", \"\") 1. ve 2. parametre boş (değişim olmayacak). 3. parametrede bulunan karakterler metinde silinecek.\n",
    "dictionary kullanarak dönüşüm -> maketrans({\"ş\" : \"s\", \"ü\" : \"u\", ...})\n",
    "'''\n",
    "import string   \n",
    "text = text.translate(str.maketrans(\"\", \"\", string.punctuation))\n",
    "print(text)"
   ]
  },
  {
   "cell_type": "code",
   "execution_count": 26,
   "id": "e1ff938c",
   "metadata": {},
   "outputs": [
    {
     "name": "stdout",
     "output_type": "stream",
     "text": [
      "Merhaba Dünya! 123 :)\n"
     ]
    }
   ],
   "source": [
    "# özel karakterleri kaldır\n",
    "import re\n",
    "\n",
    "''' \n",
    "^  -> Olumsuzlama: icindeki karakterler dişinda olanlarla esles.\n",
    "'''\n",
    "\n",
    "new_text = \"Merhaba Dünya! 123 :)\"\n",
    "re.sub(r\"[^A-Za-z0-9]\", \"\", new_text)\n",
    "print(new_text)"
   ]
  },
  {
   "cell_type": "code",
   "execution_count": 28,
   "id": "4e9d5724",
   "metadata": {},
   "outputs": [
    {
     "name": "stdout",
     "output_type": "stream",
     "text": [
      "Hello, World 2025\n"
     ]
    }
   ],
   "source": [
    "# yazım hatalarını düzelt\n",
    "from textblob import TextBlob\n",
    "\n",
    "text = \"Hellio, Wirld 2025\"\n",
    "text = TextBlob(text).correct() \n",
    "print(text)\n",
    "\n",
    "# basit düzenlemek için"
   ]
  },
  {
   "cell_type": "code",
   "execution_count": 30,
   "id": "3e131cd1",
   "metadata": {},
   "outputs": [
    {
     "name": "stdout",
     "output_type": "stream",
     "text": [
      "Merhaba Dünya!\n"
     ]
    }
   ],
   "source": [
    "# html ya da url hatalarını kaldır\n",
    "from bs4 import BeautifulSoup\n",
    "\n",
    "html_text = \"<div1>Merhaba Dünya!</div1>\"\n",
    "html_text = BeautifulSoup(html_text, \"html.parser\").get_text()\n",
    "print(html_text)"
   ]
  }
 ],
 "metadata": {
  "kernelspec": {
   "display_name": "Python 3",
   "language": "python",
   "name": "python3"
  },
  "language_info": {
   "codemirror_mode": {
    "name": "ipython",
    "version": 3
   },
   "file_extension": ".py",
   "mimetype": "text/x-python",
   "name": "python",
   "nbconvert_exporter": "python",
   "pygments_lexer": "ipython3",
   "version": "3.12.2"
  }
 },
 "nbformat": 4,
 "nbformat_minor": 5
}
