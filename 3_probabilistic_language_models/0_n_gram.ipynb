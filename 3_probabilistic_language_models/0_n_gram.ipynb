{
 "cells": [
  {
   "cell_type": "code",
   "execution_count": null,
   "id": "e9f96983",
   "metadata": {},
   "outputs": [],
   "source": [
    "import nltk\n",
    "nltk.download('punkt_tab')\n",
    "from nltk.util import ngrams\n",
    "from nltk.tokenize import word_tokenize\n",
    "from collections import Counter"
   ]
  },
  {
   "cell_type": "code",
   "execution_count": 8,
   "id": "b4bf832e",
   "metadata": {},
   "outputs": [],
   "source": [
    "documents = [\"I love apple\",\n",
    "             \"I love her\",\n",
    "             \"I love NLP\",\n",
    "             \"You love me\",\n",
    "             \"He loves apple\",\n",
    "             \"They love apple\",\n",
    "             \"I love you and you love me\"\n",
    "             ]"
   ]
  },
  {
   "cell_type": "code",
   "execution_count": 9,
   "id": "74eab30f",
   "metadata": {},
   "outputs": [],
   "source": [
    "tokens = [word_tokenize(document) for document in documents]"
   ]
  },
  {
   "cell_type": "code",
   "execution_count": 10,
   "id": "ca54d90f",
   "metadata": {},
   "outputs": [
    {
     "data": {
      "text/plain": [
       "[['I', 'love', 'apple'],\n",
       " ['I', 'love', 'her'],\n",
       " ['I', 'love', 'NLP'],\n",
       " ['You', 'love', 'me'],\n",
       " ['He', 'loves', 'apple'],\n",
       " ['They', 'love', 'apple'],\n",
       " ['I', 'love', 'you', 'and', 'you', 'love', 'me']]"
      ]
     },
     "execution_count": 10,
     "metadata": {},
     "output_type": "execute_result"
    }
   ],
   "source": [
    "tokens"
   ]
  },
  {
   "cell_type": "code",
   "execution_count": 11,
   "id": "640626ea",
   "metadata": {},
   "outputs": [
    {
     "data": {
      "text/plain": [
       "[('I', 'love'),\n",
       " ('love', 'apple'),\n",
       " ('I', 'love'),\n",
       " ('love', 'her'),\n",
       " ('I', 'love'),\n",
       " ('love', 'NLP'),\n",
       " ('You', 'love'),\n",
       " ('love', 'me'),\n",
       " ('He', 'loves'),\n",
       " ('loves', 'apple'),\n",
       " ('They', 'love'),\n",
       " ('love', 'apple'),\n",
       " ('I', 'love'),\n",
       " ('love', 'you'),\n",
       " ('you', 'and'),\n",
       " ('and', 'you'),\n",
       " ('you', 'love'),\n",
       " ('love', 'me')]"
      ]
     },
     "execution_count": 11,
     "metadata": {},
     "output_type": "execute_result"
    }
   ],
   "source": [
    "bigrams = []\n",
    "for token in tokens:\n",
    "    bigrams.extend(list(ngrams(token, 2)))\n",
    "bigrams"
   ]
  },
  {
   "cell_type": "code",
   "execution_count": 12,
   "id": "ce65c497",
   "metadata": {},
   "outputs": [
    {
     "data": {
      "text/plain": [
       "Counter({('I', 'love'): 4,\n",
       "         ('love', 'apple'): 2,\n",
       "         ('love', 'me'): 2,\n",
       "         ('love', 'her'): 1,\n",
       "         ('love', 'NLP'): 1,\n",
       "         ('You', 'love'): 1,\n",
       "         ('He', 'loves'): 1,\n",
       "         ('loves', 'apple'): 1,\n",
       "         ('They', 'love'): 1,\n",
       "         ('love', 'you'): 1,\n",
       "         ('you', 'and'): 1,\n",
       "         ('and', 'you'): 1,\n",
       "         ('you', 'love'): 1})"
      ]
     },
     "execution_count": 12,
     "metadata": {},
     "output_type": "execute_result"
    }
   ],
   "source": [
    "bigrams_freq = Counter(bigrams)\n",
    "bigrams_freq"
   ]
  },
  {
   "cell_type": "code",
   "execution_count": 13,
   "id": "6f8fffba",
   "metadata": {},
   "outputs": [
    {
     "data": {
      "text/plain": [
       "[('I', 'love', 'apple'),\n",
       " ('I', 'love', 'her'),\n",
       " ('I', 'love', 'NLP'),\n",
       " ('You', 'love', 'me'),\n",
       " ('He', 'loves', 'apple'),\n",
       " ('They', 'love', 'apple'),\n",
       " ('I', 'love', 'you'),\n",
       " ('love', 'you', 'and'),\n",
       " ('you', 'and', 'you'),\n",
       " ('and', 'you', 'love'),\n",
       " ('you', 'love', 'me')]"
      ]
     },
     "execution_count": 13,
     "metadata": {},
     "output_type": "execute_result"
    }
   ],
   "source": [
    "trigrams = []\n",
    "for token in tokens:\n",
    "    trigrams.extend(ngrams(token, 3))\n",
    "trigrams"
   ]
  },
  {
   "cell_type": "code",
   "execution_count": 14,
   "id": "90a1792d",
   "metadata": {},
   "outputs": [
    {
     "data": {
      "text/plain": [
       "Counter({('I', 'love', 'apple'): 1,\n",
       "         ('I', 'love', 'her'): 1,\n",
       "         ('I', 'love', 'NLP'): 1,\n",
       "         ('You', 'love', 'me'): 1,\n",
       "         ('He', 'loves', 'apple'): 1,\n",
       "         ('They', 'love', 'apple'): 1,\n",
       "         ('I', 'love', 'you'): 1,\n",
       "         ('love', 'you', 'and'): 1,\n",
       "         ('you', 'and', 'you'): 1,\n",
       "         ('and', 'you', 'love'): 1,\n",
       "         ('you', 'love', 'me'): 1})"
      ]
     },
     "execution_count": 14,
     "metadata": {},
     "output_type": "execute_result"
    }
   ],
   "source": [
    "trigrams_freq = Counter(trigrams)\n",
    "trigrams_freq"
   ]
  },
  {
   "cell_type": "code",
   "execution_count": 18,
   "id": "99aee00b",
   "metadata": {},
   "outputs": [
    {
     "name": "stdout",
     "output_type": "stream",
     "text": [
      "I love bigram'dan sonra 'you' gelme olasılığı: 0.25\n",
      "I love bigram'dan sonra 'apple' gelme olasılığı: 0.25\n"
     ]
    }
   ],
   "source": [
    "# model testing\n",
    "\n",
    "# i love bigram'dan sonra 'you' ve 'apple' gelme olasılığını hesaplama\n",
    "\n",
    "bigram = ('I', 'love')\n",
    "\n",
    "prob_you = trigrams_freq[('I', 'love', 'you')]/bigrams_freq[bigram]\n",
    "print(f\"I love bigram'dan sonra 'you' gelme olasılığı: {prob_you}\")\n",
    "\n",
    "prob_apple = trigrams_freq[('I', 'love', 'apple')]/bigrams_freq[bigram]\n",
    "print(f\"I love bigram'dan sonra 'apple' gelme olasılığı: {prob_apple}\")"
   ]
  }
 ],
 "metadata": {
  "kernelspec": {
   "display_name": "Python 3",
   "language": "python",
   "name": "python3"
  },
  "language_info": {
   "codemirror_mode": {
    "name": "ipython",
    "version": 3
   },
   "file_extension": ".py",
   "mimetype": "text/x-python",
   "name": "python",
   "nbconvert_exporter": "python",
   "pygments_lexer": "ipython3",
   "version": "3.12.9"
  }
 },
 "nbformat": 4,
 "nbformat_minor": 5
}
