{
 "cells": [
  {
   "cell_type": "code",
   "execution_count": 2,
   "id": "d2453870",
   "metadata": {},
   "outputs": [],
   "source": [
    "import nltk\n",
    "from nltk.tag import hmm"
   ]
  },
  {
   "cell_type": "code",
   "execution_count": 3,
   "id": "105bf20f",
   "metadata": {},
   "outputs": [],
   "source": [
    "train_data = [\n",
    "    [('I', 'pronoun'), ('am', 'verb'), ('a', 'dt'), ('teacher', 'noun')],\n",
    "    [('You', 'pronoun'), ('are', 'verb'), ('a', 'dt'), ('student', 'noun')]\n",
    "]"
   ]
  },
  {
   "cell_type": "code",
   "execution_count": 4,
   "id": "fec4fdca",
   "metadata": {},
   "outputs": [],
   "source": [
    "trainer = hmm.HiddenMarkovModelTrainer()\n",
    "hmm_tagger = trainer.train(train_data)"
   ]
  },
  {
   "cell_type": "code",
   "execution_count": 7,
   "id": "73d9e131",
   "metadata": {},
   "outputs": [
    {
     "name": "stdout",
     "output_type": "stream",
     "text": [
      "Result : [('I', 'pronoun'), ('am', 'verb'), ('a', 'dt'), ('student', 'noun')]\n"
     ]
    }
   ],
   "source": [
    "test_sentence = 'I am a student'.split()\n",
    "tags = hmm_tagger.tag(test_sentence)\n",
    "print(f\"Result : {tags}\")"
   ]
  },
  {
   "cell_type": "code",
   "execution_count": null,
   "id": "fa81753e",
   "metadata": {},
   "outputs": [
    {
     "name": "stdout",
     "output_type": "stream",
     "text": [
      "Result: [('He', 'pronoun'), ('is', 'pronoun'), ('a', 'pronoun'), ('doctor', 'pronoun')]\n"
     ]
    }
   ],
   "source": [
    "test_sentence = 'He is a doctor'.split()\n",
    "tags = hmm_tagger.tag(test_sentence)\n",
    "print(f\"Result: {tags}\") "
   ]
  }
 ],
 "metadata": {
  "kernelspec": {
   "display_name": "Python 3",
   "language": "python",
   "name": "python3"
  },
  "language_info": {
   "codemirror_mode": {
    "name": "ipython",
    "version": 3
   },
   "file_extension": ".py",
   "mimetype": "text/x-python",
   "name": "python",
   "nbconvert_exporter": "python",
   "pygments_lexer": "ipython3",
   "version": "3.12.9"
  }
 },
 "nbformat": 4,
 "nbformat_minor": 5
}
