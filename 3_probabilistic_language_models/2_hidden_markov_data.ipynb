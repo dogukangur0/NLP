{
 "cells": [
  {
   "cell_type": "code",
   "execution_count": 2,
   "id": "479601d9",
   "metadata": {},
   "outputs": [],
   "source": [
    "import nltk\n",
    "from nltk.tag import hmm\n",
    "from nltk.corpus import conll2000"
   ]
  },
  {
   "cell_type": "code",
   "execution_count": null,
   "id": "216e433d",
   "metadata": {},
   "outputs": [],
   "source": [
    "nltk.download(\"conll2000\")"
   ]
  },
  {
   "cell_type": "code",
   "execution_count": 5,
   "id": "776883f4",
   "metadata": {},
   "outputs": [],
   "source": [
    "train_data = conll2000.tagged_sents('train.txt')\n",
    "test_data = conll2000.tagged_sents('test.txt')"
   ]
  },
  {
   "cell_type": "code",
   "execution_count": 6,
   "id": "23bef2c9",
   "metadata": {},
   "outputs": [],
   "source": [
    "trainer = hmm.HiddenMarkovModelTrainer()\n",
    "hmm_tagger = trainer.train(train_data)"
   ]
  },
  {
   "cell_type": "code",
   "execution_count": 8,
   "id": "4c47c125",
   "metadata": {},
   "outputs": [
    {
     "data": {
      "text/plain": [
       "[('I', 'PRP'),\n",
       " ('like', 'IN'),\n",
       " ('going', 'VBG'),\n",
       " ('to', 'TO'),\n",
       " ('school', 'NN')]"
      ]
     },
     "execution_count": 8,
     "metadata": {},
     "output_type": "execute_result"
    }
   ],
   "source": [
    "test_sentence = 'I like going to school'.split()\n",
    "tags = hmm_tagger.tag(test_sentence)\n",
    "tags"
   ]
  }
 ],
 "metadata": {
  "kernelspec": {
   "display_name": "Python 3",
   "language": "python",
   "name": "python3"
  },
  "language_info": {
   "codemirror_mode": {
    "name": "ipython",
    "version": 3
   },
   "file_extension": ".py",
   "mimetype": "text/x-python",
   "name": "python",
   "nbconvert_exporter": "python",
   "pygments_lexer": "ipython3",
   "version": "3.12.9"
  }
 },
 "nbformat": 4,
 "nbformat_minor": 5
}
