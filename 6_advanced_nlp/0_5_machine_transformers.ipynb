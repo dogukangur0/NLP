{
 "cells": [
  {
   "cell_type": "code",
   "execution_count": 13,
   "id": "6b8bdfdb",
   "metadata": {},
   "outputs": [],
   "source": [
    "from transformers import pipeline"
   ]
  },
  {
   "cell_type": "code",
   "execution_count": null,
   "id": "bb4a43cd",
   "metadata": {},
   "outputs": [],
   "source": [
    "summarizer = pipeline(\"summarization\")"
   ]
  },
  {
   "cell_type": "code",
   "execution_count": 16,
   "id": "757f50aa",
   "metadata": {},
   "outputs": [],
   "source": [
    "text = \"Machine Learning is a subfield of artificial intelligence that focuses on developing algorithms that allow computers to learn from data without being explicitly programmed. \" \\\n",
    "\"Instead of following fixed instructions, a machine learning model identifies patterns and relationships within data to make predictions or decisions. \" \\\n",
    "\"It is widely used in various domains, such as image and speech recognition, natural language processing, recommendation systems, and autonomous vehicles.\" \\\n",
    "\"By continuously improving through experience, machine learning enables systems to adapt and perform complex tasks more effectively over time.\""
   ]
  },
  {
   "cell_type": "code",
   "execution_count": 21,
   "id": "b80e7339",
   "metadata": {},
   "outputs": [],
   "source": [
    "summary = summarizer(\n",
    "    text,\n",
    "    max_length = 40,\n",
    "    min_length = 15,\n",
    "    do_sample = True\n",
    ")"
   ]
  },
  {
   "cell_type": "code",
   "execution_count": 22,
   "id": "8b69c9d2",
   "metadata": {},
   "outputs": [
    {
     "name": "stdout",
     "output_type": "stream",
     "text": [
      " Machine Learning is a subfield of artificial intelligence that focuses on developing algorithms that allow computers to learn from data without being explicitly programmed . It is widely used in various domains, such as image\n"
     ]
    }
   ],
   "source": [
    "print(summary[0][\"summary_text\"])"
   ]
  }
 ],
 "metadata": {
  "kernelspec": {
   "display_name": "Python 3",
   "language": "python",
   "name": "python3"
  },
  "language_info": {
   "codemirror_mode": {
    "name": "ipython",
    "version": 3
   },
   "file_extension": ".py",
   "mimetype": "text/x-python",
   "name": "python",
   "nbconvert_exporter": "python",
   "pygments_lexer": "ipython3",
   "version": "3.10.11"
  }
 },
 "nbformat": 4,
 "nbformat_minor": 5
}
