{
 "cells": [
  {
   "cell_type": "code",
   "execution_count": null,
   "id": "19382af3",
   "metadata": {},
   "outputs": [],
   "source": [
    "import pandas as pd\n",
    "from sklearn.feature_extraction.text import TfidfVectorizer"
   ]
  },
  {
   "cell_type": "code",
   "execution_count": 11,
   "id": "8bbea1e9",
   "metadata": {},
   "outputs": [],
   "source": [
    "documents = [\"Köpek çok tatlı bir hayvandır.\",\n",
    "             \"Köpek ve kuşlar çok tatlı hayvanlardır.\",\n",
    "             \"Inekler süt üretirler.\"]"
   ]
  },
  {
   "cell_type": "code",
   "execution_count": 12,
   "id": "3f8f29c2",
   "metadata": {},
   "outputs": [],
   "source": [
    "tf_idf_vectorizer = TfidfVectorizer()"
   ]
  },
  {
   "cell_type": "code",
   "execution_count": 13,
   "id": "a70000f6",
   "metadata": {},
   "outputs": [],
   "source": [
    "X = tf_idf_vectorizer.fit_transform(documents)  # <3x12 sparse matrix of type '<class 'numpy.float64'>'"
   ]
  },
  {
   "cell_type": "code",
   "execution_count": 16,
   "id": "123bf9ae",
   "metadata": {},
   "outputs": [],
   "source": [
    "feature_names = tf_idf_vectorizer.get_feature_names_out() # array(['bir', 'hayvandır', 'hayvanlardır', 'inekler', 'kuşlar', 'köpek', 'süt', 'tatlı', 've', 'çok', 'üretirler'])"
   ]
  },
  {
   "cell_type": "code",
   "execution_count": 17,
   "id": "3e3df844",
   "metadata": {},
   "outputs": [],
   "source": [
    "vector_temsili = X.toarray()"
   ]
  },
  {
   "cell_type": "code",
   "execution_count": 21,
   "id": "380d09a2",
   "metadata": {},
   "outputs": [
    {
     "data": {
      "text/html": [
       "<div>\n",
       "<style scoped>\n",
       "    .dataframe tbody tr th:only-of-type {\n",
       "        vertical-align: middle;\n",
       "    }\n",
       "\n",
       "    .dataframe tbody tr th {\n",
       "        vertical-align: top;\n",
       "    }\n",
       "\n",
       "    .dataframe thead th {\n",
       "        text-align: right;\n",
       "    }\n",
       "</style>\n",
       "<table border=\"1\" class=\"dataframe\">\n",
       "  <thead>\n",
       "    <tr style=\"text-align: right;\">\n",
       "      <th></th>\n",
       "      <th>bir</th>\n",
       "      <th>hayvandır</th>\n",
       "      <th>hayvanlardır</th>\n",
       "      <th>inekler</th>\n",
       "      <th>kuşlar</th>\n",
       "      <th>köpek</th>\n",
       "      <th>süt</th>\n",
       "      <th>tatlı</th>\n",
       "      <th>ve</th>\n",
       "      <th>çok</th>\n",
       "      <th>üretirler</th>\n",
       "    </tr>\n",
       "  </thead>\n",
       "  <tbody>\n",
       "    <tr>\n",
       "      <th>0</th>\n",
       "      <td>0.51742</td>\n",
       "      <td>0.51742</td>\n",
       "      <td>0.000000</td>\n",
       "      <td>0.00000</td>\n",
       "      <td>0.000000</td>\n",
       "      <td>0.393511</td>\n",
       "      <td>0.00000</td>\n",
       "      <td>0.393511</td>\n",
       "      <td>0.000000</td>\n",
       "      <td>0.393511</td>\n",
       "      <td>0.00000</td>\n",
       "    </tr>\n",
       "    <tr>\n",
       "      <th>1</th>\n",
       "      <td>0.00000</td>\n",
       "      <td>0.00000</td>\n",
       "      <td>0.459548</td>\n",
       "      <td>0.00000</td>\n",
       "      <td>0.459548</td>\n",
       "      <td>0.349498</td>\n",
       "      <td>0.00000</td>\n",
       "      <td>0.349498</td>\n",
       "      <td>0.459548</td>\n",
       "      <td>0.349498</td>\n",
       "      <td>0.00000</td>\n",
       "    </tr>\n",
       "    <tr>\n",
       "      <th>2</th>\n",
       "      <td>0.00000</td>\n",
       "      <td>0.00000</td>\n",
       "      <td>0.000000</td>\n",
       "      <td>0.57735</td>\n",
       "      <td>0.000000</td>\n",
       "      <td>0.000000</td>\n",
       "      <td>0.57735</td>\n",
       "      <td>0.000000</td>\n",
       "      <td>0.000000</td>\n",
       "      <td>0.000000</td>\n",
       "      <td>0.57735</td>\n",
       "    </tr>\n",
       "  </tbody>\n",
       "</table>\n",
       "</div>"
      ],
      "text/plain": [
       "       bir  hayvandır  hayvanlardır  inekler    kuşlar     köpek      süt  \\\n",
       "0  0.51742    0.51742      0.000000  0.00000  0.000000  0.393511  0.00000   \n",
       "1  0.00000    0.00000      0.459548  0.00000  0.459548  0.349498  0.00000   \n",
       "2  0.00000    0.00000      0.000000  0.57735  0.000000  0.000000  0.57735   \n",
       "\n",
       "      tatlı        ve       çok  üretirler  \n",
       "0  0.393511  0.000000  0.393511    0.00000  \n",
       "1  0.349498  0.459548  0.349498    0.00000  \n",
       "2  0.000000  0.000000  0.000000    0.57735  "
      ]
     },
     "execution_count": 21,
     "metadata": {},
     "output_type": "execute_result"
    }
   ],
   "source": [
    "dataset_tf_idf = pd.DataFrame(vector_temsili, columns = feature_names)\n",
    "dataset_tf_idf"
   ]
  },
  {
   "cell_type": "code",
   "execution_count": 23,
   "id": "2ffda3d1",
   "metadata": {},
   "outputs": [
    {
     "data": {
      "text/plain": [
       "bir             0.172473\n",
       "hayvandır       0.172473\n",
       "hayvanlardır    0.153183\n",
       "inekler         0.192450\n",
       "kuşlar          0.153183\n",
       "köpek           0.247670\n",
       "süt             0.192450\n",
       "tatlı           0.247670\n",
       "ve              0.153183\n",
       "çok             0.247670\n",
       "üretirler       0.192450\n",
       "dtype: float64"
      ]
     },
     "execution_count": 23,
     "metadata": {},
     "output_type": "execute_result"
    }
   ],
   "source": [
    "tf_idf = dataset_tf_idf.mean(axis = 0)\n",
    "tf_idf"
   ]
  }
 ],
 "metadata": {
  "kernelspec": {
   "display_name": "Python 3",
   "language": "python",
   "name": "python3"
  },
  "language_info": {
   "codemirror_mode": {
    "name": "ipython",
    "version": 3
   },
   "file_extension": ".py",
   "mimetype": "text/x-python",
   "name": "python",
   "nbconvert_exporter": "python",
   "pygments_lexer": "ipython3",
   "version": "3.12.2"
  }
 },
 "nbformat": 4,
 "nbformat_minor": 5
}
