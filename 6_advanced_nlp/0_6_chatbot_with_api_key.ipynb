{
 "cells": [
  {
   "cell_type": "code",
   "execution_count": 1,
   "id": "1e87dc4f",
   "metadata": {},
   "outputs": [],
   "source": [
    "import openai"
   ]
  },
  {
   "cell_type": "code",
   "execution_count": 2,
   "id": "5c60771f",
   "metadata": {},
   "outputs": [],
   "source": [
    "openai.api_key = \"api_key\""
   ]
  },
  {
   "cell_type": "code",
   "execution_count": 3,
   "id": "06f59444",
   "metadata": {},
   "outputs": [],
   "source": [
    "def chat_with_gpt(prompt, history_list):\n",
    "    response = openai.ChatCompletion.create(\n",
    "        model = \"gpt-3.5-turbo\",\n",
    "        message = [{\"role\": \"user\", \"content\": f\"Bu bizim konuşma mesajımız: {prompt}. Konuşma geçmişi: {history_list}\"}]\n",
    "    )\n",
    "\n",
    "    return response.choices[0].message.content.strip()"
   ]
  },
  {
   "cell_type": "code",
   "execution_count": null,
   "id": "eb141114",
   "metadata": {},
   "outputs": [],
   "source": [
    "if __name__ == '__main__':\n",
    "    history_list = []\n",
    "    while True:\n",
    "        user_input = input(\"Kullanıcı tarafından girilen mesaj: \")\n",
    "\n",
    "        if user_input.lower() in [\"exit\", \"q\"]:\n",
    "            print(\"Konuşma tamamlandı.\")\n",
    "            break\n",
    "    \n",
    "        history_list.append(user_input)\n",
    "        response = chat_with_gpt(user_input, history_list)\n",
    "        print(f\"Response: {response}\")"
   ]
  }
 ],
 "metadata": {
  "kernelspec": {
   "display_name": "Python 3",
   "language": "python",
   "name": "python3"
  },
  "language_info": {
   "codemirror_mode": {
    "name": "ipython",
    "version": 3
   },
   "file_extension": ".py",
   "mimetype": "text/x-python",
   "name": "python",
   "nbconvert_exporter": "python",
   "pygments_lexer": "ipython3",
   "version": "3.10.11"
  }
 },
 "nbformat": 4,
 "nbformat_minor": 5
}
