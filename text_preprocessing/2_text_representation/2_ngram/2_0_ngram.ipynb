{
 "cells": [
  {
   "cell_type": "code",
   "execution_count": 1,
   "id": "761d1817",
   "metadata": {},
   "outputs": [],
   "source": [
    "from sklearn.feature_extraction.text import CountVectorizer"
   ]
  },
  {
   "cell_type": "code",
   "execution_count": null,
   "id": "d02b2ae8",
   "metadata": {},
   "outputs": [],
   "source": [
    "documents = [\"Bu çalışma NGram çalışmasıdır.\",\n",
    "             \"Bu çalışma doğal dil işleme çalışmasıdır.\"]"
   ]
  },
  {
   "cell_type": "code",
   "execution_count": 4,
   "id": "95cdac15",
   "metadata": {},
   "outputs": [],
   "source": [
    "vectorizer_unigram = CountVectorizer(ngram_range=(1,1))\n",
    "vectorizer_bigram = CountVectorizer(ngram_range=(2,2))\n",
    "vectorizer_trigram = CountVectorizer(ngram_range=(3,3))"
   ]
  },
  {
   "cell_type": "code",
   "execution_count": 9,
   "id": "98d78d67",
   "metadata": {},
   "outputs": [
    {
     "data": {
      "text/plain": [
       "array(['bu', 'dil', 'doğal', 'işleme', 'ngram', 'çalışma', 'çalışmasıdır'],\n",
       "      dtype=object)"
      ]
     },
     "execution_count": 9,
     "metadata": {},
     "output_type": "execute_result"
    }
   ],
   "source": [
    "X_unigram = vectorizer_unigram.fit_transform(documents)\n",
    "unigram_features = vectorizer_unigram.get_feature_names_out()\n",
    "unigram_features"
   ]
  },
  {
   "cell_type": "code",
   "execution_count": 11,
   "id": "969d1105",
   "metadata": {},
   "outputs": [
    {
     "data": {
      "text/plain": [
       "array(['bu çalışma', 'dil işleme', 'doğal dil', 'işleme çalışmasıdır',\n",
       "       'ngram çalışmasıdır', 'çalışma doğal', 'çalışma ngram'],\n",
       "      dtype=object)"
      ]
     },
     "execution_count": 11,
     "metadata": {},
     "output_type": "execute_result"
    }
   ],
   "source": [
    "X_bigram = vectorizer_bigram.fit_transform(documents)\n",
    "bigram_features = vectorizer_bigram.get_feature_names_out()\n",
    "bigram_features"
   ]
  },
  {
   "cell_type": "code",
   "execution_count": 12,
   "id": "126971c6",
   "metadata": {},
   "outputs": [
    {
     "data": {
      "text/plain": [
       "array(['bu çalışma doğal', 'bu çalışma ngram', 'dil işleme çalışmasıdır',\n",
       "       'doğal dil işleme', 'çalışma doğal dil',\n",
       "       'çalışma ngram çalışmasıdır'], dtype=object)"
      ]
     },
     "execution_count": 12,
     "metadata": {},
     "output_type": "execute_result"
    }
   ],
   "source": [
    "X_trigram = vectorizer_trigram.fit_transform(documents)\n",
    "trigram_features = vectorizer_trigram.get_feature_names_out()\n",
    "trigram_features"
   ]
  }
 ],
 "metadata": {
  "kernelspec": {
   "display_name": "Python 3",
   "language": "python",
   "name": "python3"
  },
  "language_info": {
   "codemirror_mode": {
    "name": "ipython",
    "version": 3
   },
   "file_extension": ".py",
   "mimetype": "text/x-python",
   "name": "python",
   "nbconvert_exporter": "python",
   "pygments_lexer": "ipython3",
   "version": "3.12.2"
  }
 },
 "nbformat": 4,
 "nbformat_minor": 5
}
